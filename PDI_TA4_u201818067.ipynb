{
  "nbformat": 4,
  "nbformat_minor": 0,
  "metadata": {
    "colab": {
      "name": "PDI_TA4_u201818067.ipynb",
      "provenance": [],
      "authorship_tag": "ABX9TyPcuFdEYV8dcfVIptZSq8Un",
      "include_colab_link": true
    },
    "kernelspec": {
      "name": "python3",
      "display_name": "Python 3"
    }
  },
  "cells": [
    {
      "cell_type": "markdown",
      "metadata": {
        "id": "view-in-github",
        "colab_type": "text"
      },
      "source": [
        "<a href=\"https://colab.research.google.com/github/Carhuacusma/CC61_PDI_TA4_u201818067/blob/main/PDI_TA4_u201818067.ipynb\" target=\"_parent\"><img src=\"https://colab.research.google.com/assets/colab-badge.svg\" alt=\"Open In Colab\"/></a>"
      ]
    },
    {
      "cell_type": "markdown",
      "metadata": {
        "id": "t1bxXLM7SVmr"
      },
      "source": [
        "#Procesamiento Digital de Imágenes - Detección y segmentación"
      ]
    },
    {
      "cell_type": "markdown",
      "metadata": {
        "id": "iou7wNiIS90Q"
      },
      "source": [
        "## Objetivos:"
      ]
    },
    {
      "cell_type": "markdown",
      "metadata": {
        "id": "mbZQi0QMTEu1"
      },
      "source": [
        "##Ejercicio: Detección y Segmentación"
      ]
    },
    {
      "cell_type": "markdown",
      "metadata": {
        "id": "H_ofNjdkTcKx"
      },
      "source": [
        "### Detección de descontinuidades"
      ]
    },
    {
      "cell_type": "markdown",
      "metadata": {
        "id": "P_3DfmnKT1ci"
      },
      "source": [
        "En imágenes, las descontinuidades buscadas son puntos, segmentos de rectas, bordes y uniones"
      ]
    },
    {
      "cell_type": "markdown",
      "metadata": {
        "id": "lC-wKHdiWbS9"
      },
      "source": [
        "## Código"
      ]
    },
    {
      "cell_type": "markdown",
      "metadata": {
        "id": "k4QY_z5WTIvT"
      },
      "source": [
        "###Importando librerías"
      ]
    },
    {
      "cell_type": "code",
      "metadata": {
        "id": "gDQOiSxXSHId"
      },
      "source": [
        "import cv2\n",
        "import numpy as np\n",
        "import matplotlib.pylab as plt\n",
        "from google.colab.patches import cv2_imshow"
      ],
      "execution_count": 1,
      "outputs": []
    },
    {
      "cell_type": "markdown",
      "metadata": {
        "id": "J7LQGahuTVjz"
      },
      "source": [
        "###Resaltar los bordes"
      ]
    },
    {
      "cell_type": "code",
      "metadata": {
        "id": "8dcmX5siTVCU"
      },
      "source": [
        ""
      ],
      "execution_count": null,
      "outputs": []
    },
    {
      "cell_type": "markdown",
      "metadata": {
        "id": "Zz7ycWmMTPf3"
      },
      "source": [
        "###Cargando la imagen"
      ]
    },
    {
      "cell_type": "code",
      "metadata": {
        "id": "vPvYdzQ8TTHt"
      },
      "source": [
        ""
      ],
      "execution_count": null,
      "outputs": []
    },
    {
      "cell_type": "markdown",
      "metadata": {
        "id": "ceZMpYkWWdw2"
      },
      "source": [
        "## Conclusiones"
      ]
    },
    {
      "cell_type": "markdown",
      "metadata": {
        "id": "3-oaKtiIWfg2"
      },
      "source": [
        "## Bibliografía"
      ]
    },
    {
      "cell_type": "markdown",
      "metadata": {
        "id": "n5WPeaW4Whwu"
      },
      "source": [
        "* Rani, R. & Kumari, S. (2016) *An approach of detecting discontinuities in images*. Recuperado de: https://pdfs.semanticscholar.org/55e0/6c28291d943aaa481ecd669bce328d54fe74.pdf "
      ]
    }
  ]
}